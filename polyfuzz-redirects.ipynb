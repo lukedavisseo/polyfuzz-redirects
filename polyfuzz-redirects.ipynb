{
 "cells": [
  {
   "cell_type": "code",
   "execution_count": null,
   "id": "9768a125",
   "metadata": {},
   "outputs": [],
   "source": [
    "import advertools as adv\n",
    "import pandas as pd\n",
    "from polyfuzz import PolyFuzz"
   ]
  },
  {
   "cell_type": "markdown",
   "id": "5cdcba38",
   "metadata": {},
   "source": [
    "## Converts a sitemap or sitemap index into a Pandas DataFrame"
   ]
  },
  {
   "cell_type": "code",
   "execution_count": null,
   "id": "002ce16a",
   "metadata": {},
   "outputs": [],
   "source": [
    "# Extracts all the URLs and puts them into a list\n",
    "url_list = sitemap_df['loc'].to_list()"
   ]
  },
  {
   "cell_type": "code",
   "execution_count": null,
   "id": "8475b578",
   "metadata": {},
   "outputs": [],
   "source": [
    "# An empty list to add your \"broken\" set of URLs\n",
    "broken_list = []"
   ]
  },
  {
   "cell_type": "code",
   "execution_count": null,
   "id": "2122979b",
   "metadata": {},
   "outputs": [],
   "source": [
    "# Specify a specific model or complete a basic fuzzy match with the two URL lists\n",
    "model = PolyFuzz().match(broken_list, url_list)"
   ]
  },
  {
   "cell_type": "code",
   "execution_count": null,
   "id": "01f80597",
   "metadata": {},
   "outputs": [],
   "source": [
    "# Converts the matches into another DataFrame\n",
    "df = model.get_matches()"
   ]
  },
  {
   "cell_type": "code",
   "execution_count": null,
   "id": "2a8443d8",
   "metadata": {},
   "outputs": [],
   "source": [
    "# Exports it to a CSV\n",
    "df.to_csv('filename.csv', index=False)"
   ]
  }
 ],
 "metadata": {
  "kernelspec": {
   "display_name": "Python 3 (ipykernel)",
   "language": "python",
   "name": "python3"
  },
  "language_info": {
   "codemirror_mode": {
    "name": "ipython",
    "version": 3
   },
   "file_extension": ".py",
   "mimetype": "text/x-python",
   "name": "python",
   "nbconvert_exporter": "python",
   "pygments_lexer": "ipython3",
   "version": "3.10.7"
  }
 },
 "nbformat": 4,
 "nbformat_minor": 5
}
