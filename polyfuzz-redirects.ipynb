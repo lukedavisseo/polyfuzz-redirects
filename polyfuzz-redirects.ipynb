{
 "cells": [
  {
   "cell_type": "markdown",
   "id": "6d2ca449",
   "metadata": {},
   "source": [
    "## Libraries you need to import"
   ]
  },
  {
   "cell_type": "code",
   "execution_count": null,
   "id": "e829fba6",
   "metadata": {},
   "outputs": [],
   "source": [
    "import advertools as adv\n",
    "import pandas as pd\n",
    "from polyfuzz import PolyFuzz"
   ]
  },
  {
   "cell_type": "markdown",
   "id": "5163115c",
   "metadata": {},
   "source": [
    "## Converts a sitemap or sitemap index into a Pandas DataFrame"
   ]
  },
  {
   "cell_type": "code",
   "execution_count": null,
   "id": "c8a3f1de",
   "metadata": {},
   "outputs": [],
   "source": [
    "sitemap_df = adv.sitemap_to_df('https://www.example.org/sitemap.xml')"
   ]
  },
  {
   "cell_type": "markdown",
   "id": "61f33ff9",
   "metadata": {},
   "source": [
    "## Extracts all the URLs and puts them into a list"
   ]
  },
  {
   "cell_type": "code",
   "execution_count": null,
   "id": "884a64cb",
   "metadata": {},
   "outputs": [],
   "source": [
    "url_list = sitemap_df['loc'].to_list()"
   ]
  },
  {
   "cell_type": "markdown",
   "id": "fc1e8a65",
   "metadata": {},
   "source": [
    "## An empty list to add your \"broken\" set of URLs"
   ]
  },
  {
   "cell_type": "code",
   "execution_count": null,
   "id": "ae321e84",
   "metadata": {},
   "outputs": [],
   "source": [
    "broken_list = []"
   ]
  },
  {
   "cell_type": "markdown",
   "id": "e0ca7d27",
   "metadata": {},
   "source": [
    "## Specify a specific model or complete a basic fuzzy match with the two URL lists"
   ]
  },
  {
   "cell_type": "code",
   "execution_count": null,
   "id": "4357907a",
   "metadata": {},
   "outputs": [],
   "source": [
    "model = PolyFuzz().match(url_list, broken_list)"
   ]
  },
  {
   "cell_type": "markdown",
   "id": "baf0330b",
   "metadata": {},
   "source": [
    "## Converts the matches into another DataFrame"
   ]
  },
  {
   "cell_type": "code",
   "execution_count": null,
   "id": "5c90afcf",
   "metadata": {},
   "outputs": [],
   "source": [
    "df = model.get_matches()"
   ]
  },
  {
   "cell_type": "markdown",
   "id": "5bc97995",
   "metadata": {},
   "source": [
    "## Exports it to a CSV"
   ]
  },
  {
   "cell_type": "code",
   "execution_count": null,
   "id": "2c72f449",
   "metadata": {},
   "outputs": [],
   "source": [
    "df.to_csv('filename.csv', index=False)"
   ]
  }
 ],
 "metadata": {
  "kernelspec": {
   "display_name": "Python 3 (ipykernel)",
   "language": "python",
   "name": "python3"
  },
  "language_info": {
   "codemirror_mode": {
    "name": "ipython",
    "version": 3
   },
   "file_extension": ".py",
   "mimetype": "text/x-python",
   "name": "python",
   "nbconvert_exporter": "python",
   "pygments_lexer": "ipython3",
   "version": "3.10.7"
  }
 },
 "nbformat": 4,
 "nbformat_minor": 5
}
